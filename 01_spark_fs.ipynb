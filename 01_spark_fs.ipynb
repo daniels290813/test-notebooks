{
 "cells": [
  {
   "cell_type": "markdown",
   "id": "de69524e",
   "metadata": {},
   "source": [
    "# Feature-store ingestion using spark engine\n",
    "Please make sure required env variables are set - `AWS_ACCESS_KEY_ID`, `AWS_SECRET_ACCESS_KEY` and `GOOGLE_APPLICATION_CREDENTIALS`"
   ]
  },
  {
   "cell_type": "markdown",
   "id": "73dfdfcc",
   "metadata": {},
   "source": [
    "### Pypsark dataframe source & V3IO KV targe"
   ]
  },
  {
   "cell_type": "code",
   "execution_count": 1,
   "id": "06a038fa",
   "metadata": {},
   "outputs": [
    {
     "name": "stdout",
     "output_type": "stream",
     "text": [
      "> 2022-12-08 11:05:04,452 [info] loaded project test-notebooks from MLRun DB\n"
     ]
    }
   ],
   "source": [
    "import os\n",
    "import mlrun\n",
    "import mlrun.feature_store as fs\n",
    "import storey\n",
    "import pandas as pd\n",
    "from pyspark.sql.functions import *\n",
    "from pyspark.sql.types import *\n",
    "\n",
    "project_name = 'test-notebooks'\n",
    "# Initialize the MLRun project object\n",
    "project = mlrun.get_or_create_project(project_name, context=\"./\", user_project=True)"
   ]
  },
  {
   "cell_type": "code",
   "execution_count": 3,
   "id": "983d5c57",
   "metadata": {},
   "outputs": [],
   "source": [
    "# Fetch the transactions dataset from the server\n",
    "if not os.path.exists('data.csv'):\n",
    "    dataset_path = 'https://s3.wasabisys.com/iguazio/data/fraud-demo-mlrun-fs-docs/data.csv'\n",
    "    transactions_data = pd.read_csv(dataset_path, parse_dates=['timestamp']).sort_values(by='source', axis=0)[:500]\n",
    "    transactions_data.to_csv('data.csv')\n",
    "else:\n",
    "    transactions_data = pd.read_csv('data.csv', parse_dates=['timestamp'])"
   ]
  },
  {
   "cell_type": "code",
   "execution_count": 4,
   "id": "5c5d2438",
   "metadata": {},
   "outputs": [],
   "source": [
    "# Creating feature-set\n",
    "transaction_set = fs.FeatureSet('transactions',\n",
    "                                entities=[fs.Entity('source')], \n",
    "                                timestamp_key = 'timestamp', \n",
    "                                engine='spark',\n",
    "                                description=\"transactions feature set\")\n",
    "\n",
    "# setting default targets\n",
    "transaction_set.set_targets(targets=['nosql'],with_defaults=False)"
   ]
  },
  {
   "cell_type": "code",
   "execution_count": 5,
   "id": "7608c201",
   "metadata": {},
   "outputs": [
    {
     "name": "stdout",
     "output_type": "stream",
     "text": [
      "> 2022-12-08 11:05:51,956 [info] writing to target nosql, spark options {'path': 'v3io://projects/test-notebooks-dani/FeatureStore/transactions/nosql/sets/transactions/1670497551956_602/', 'format': 'io.iguaz.v3io.spark.sql.kv', 'key': 'source'}\n"
     ]
    },
    {
     "name": "stderr",
     "output_type": "stream",
     "text": [
      "DataFrame is highly fragmented.  This is usually the result of calling `frame.insert` many times, which has poor performance.  Consider joining all columns at once using pd.concat(axis=1) instead.  To get a de-fragmented frame, use `newframe = frame.copy()`\n"
     ]
    }
   ],
   "source": [
    "from pyspark.sql import SparkSession\n",
    "\n",
    "# Creating spark dataframe to ingest\n",
    "spark = SparkSession.builder \\\n",
    "                    .master(\"local[1]\") \\\n",
    "                    .appName(\"SparkByExamples.com\") \\\n",
    "                    .getOrCreate()\n",
    "        \n",
    "spark_dataframe = spark.createDataFrame(transactions_data)\n",
    "\n",
    "# Ingesting\n",
    "fs.ingest(transaction_set, spark_dataframe, overwrite=True)"
   ]
  },
  {
   "cell_type": "markdown",
   "id": "3ac3b8d5",
   "metadata": {},
   "source": [
    "### S3 CSV source & target"
   ]
  },
  {
   "cell_type": "code",
   "execution_count": 6,
   "id": "9c9a1b42",
   "metadata": {},
   "outputs": [],
   "source": [
    "from mlrun.datastore.sources import CSVSource\n",
    "from mlrun.datastore import CSVTarget\n",
    "\n",
    "user_events_set = fs.FeatureSet(\"events2\",\n",
    "                                entities=[fs.Entity(\"source\")],\n",
    "                                timestamp_key='timestamp', \n",
    "                                description=\"user events feature set\",\n",
    "                                engine='spark')\n",
    "\n",
    "s3_filepath = 's3://igz-app-lab/transactions_cut.csv'\n",
    "s3_target = 's3://igz-app-lab/spark_operator_FS2/'\n",
    "\n",
    "user_events_source_s3 = CSVSource(\"user_events\", path=s3_filepath)\n",
    "user_events_target_s3 = CSVTarget(\"user_events\", path=s3_target)\n",
    "\n",
    "user_events_set.set_targets(targets = [user_events_target_s3], with_defaults=False)"
   ]
  },
  {
   "cell_type": "code",
   "execution_count": 7,
   "id": "2c3dc0be",
   "metadata": {},
   "outputs": [
    {
     "name": "stdout",
     "output_type": "stream",
     "text": [
      "> 2022-12-08 11:06:06,697 [info] writing to target user_events, spark options {'path': 's3a://igz-app-lab/spark_operator_FS2/1670497566697_81/', 'format': 'csv', 'header': 'true'}\n"
     ]
    }
   ],
   "source": [
    "ingestion_df = fs.ingest(featureset=user_events_set, source=user_events_source_s3, overwrite=True)"
   ]
  },
  {
   "cell_type": "markdown",
   "id": "d2acbacc",
   "metadata": {},
   "source": [
    "### GCS dataframe source & V3IO KV target"
   ]
  },
  {
   "cell_type": "code",
   "execution_count": 12,
   "id": "f0149ed3",
   "metadata": {},
   "outputs": [],
   "source": [
    "from mlrun.datastore.sources import CSVSource\n",
    "from mlrun.datastore import CSVTarget\n",
    "\n",
    "user_events_set = fs.FeatureSet(\"events\",\n",
    "                                entities=[fs.Entity(\"source\")],\n",
    "                                timestamp_key='timestamp', \n",
    "                                description=\"user events feature set\",\n",
    "                                engine='spark')\n",
    "\n",
    "gs_filepath = 'gs://test_bucket-igz/dani/transactions_cut.csv'\n",
    "gs_target = 'gs://test_bucket-igz/dani/test/'\n",
    "\n",
    "user_events_source_gs = CSVSource(\"user_events\", path=gs_filepath)\n",
    "user_events_target_gs = CSVTarget(\"user_events\", path=gs_target)\n",
    "\n",
    "user_events_set.set_targets(targets = [user_events_target_gs], with_defaults=False)"
   ]
  },
  {
   "cell_type": "code",
   "execution_count": null,
   "id": "f0958e18",
   "metadata": {},
   "outputs": [],
   "source": [
    "# ingestion_df = fs.ingest(featureset=user_events_set, source=user_events_source_gs, overwrite=True)"
   ]
  }
 ],
 "metadata": {
  "kernelspec": {
   "display_name": "Python 3",
   "language": "python",
   "name": "python3"
  },
  "language_info": {
   "codemirror_mode": {
    "name": "ipython",
    "version": 3
   },
   "file_extension": ".py",
   "mimetype": "text/x-python",
   "name": "python",
   "nbconvert_exporter": "python",
   "pygments_lexer": "ipython3",
   "version": "3.7.6"
  }
 },
 "nbformat": 4,
 "nbformat_minor": 5
}

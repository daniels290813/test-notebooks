{
 "cells": [
  {
   "cell_type": "markdown",
   "id": "de14c07a",
   "metadata": {},
   "source": [
    "# Serving Runtime Remote Artifacts"
   ]
  },
  {
   "cell_type": "code",
   "execution_count": 1,
   "id": "8ee85b40",
   "metadata": {},
   "outputs": [
    {
     "name": "stdout",
     "output_type": "stream",
     "text": [
      "> 2022-12-21 08:28:57,430 [info] loaded project testing-notebooks from MLRun DB\n"
     ]
    }
   ],
   "source": [
    "import mlrun\n",
    "import os\n",
    "\n",
    "# Initialize the MLRun project object\n",
    "project = mlrun.get_or_create_project('testing-notebooks',user_project=True,context='./')\n",
    "\n",
    "# Required credentials :\n",
    "# AWS_ACCESS_KEY_ID, AWS_SECRET_ACCESS_KEY, GOOGLE_APPLICATION_CREDENTIALS, S3_BUCKET\n",
    "AWS_ACCESS_KEY_ID = os.environ.get('AWS_ACCESS_KEY_ID', None)\n",
    "AWS_SECRET_ACCESS_KEY = os.environ.get('AWS_SECRET_ACCESS_KEY', None)\n",
    "GOOGLE_APPLICATION_CREDENTIALS = os.environ.get('GOOGLE_APPLICATION_CREDENTIALS', None)\n",
    "assert AWS_ACCESS_KEY_ID != None and AWS_SECRET_ACCESS_KEY != None and GOOGLE_APPLICATION_CREDENTIALS != None\n",
    "\n",
    "secrets = {'AWS_ACCESS_KEY_ID': AWS_ACCESS_KEY_ID,\n",
    "           'AWS_SECRET_ACCESS_KEY':AWS_SECRET_ACCESS_KEY,\n",
    "           'GOOGLE_APPLICATION_CREDENTIALS': GOOGLE_APPLICATION_CREDENTIALS}\n",
    "\n",
    "project.set_secrets(secrets=secrets, provider='kubernetes')\n",
    "\n",
    "S3_BUCKET = os.environ.get('S3_BUCKET', 'testbucket-igz')\n",
    "\n",
    "project.artifact_path = os.path.join('s3://', S3_BUCKET + '/')"
   ]
  },
  {
   "cell_type": "code",
   "execution_count": 2,
   "id": "bf43ad65",
   "metadata": {},
   "outputs": [
    {
     "name": "stdout",
     "output_type": "stream",
     "text": [
      "> 2022-12-21 08:28:57,536 [warning] it is recommended to use k8s secret (specify secret_name), specifying the aws_access_key/aws_secret_key directly is unsafe\n"
     ]
    },
    {
     "data": {
      "text/plain": [
       "<mlrun.runtimes.serving.ServingRuntime at 0x7fccfc2c6f10>"
      ]
     },
     "execution_count": 2,
     "metadata": {},
     "output_type": "execute_result"
    }
   ],
   "source": [
    "# Setting dummy serving function\n",
    "project.set_function(mlrun.new_function(name='serving', kind='serving',image='mlrun/ml-models', command = []))\n",
    "project.get_function('serving').spec.build.commands = ['pip install -U xgboost']\n",
    "project.get_function('serving').set_envs(secrets)\n",
    "# adding our remote source model\n",
    "model_artifact = project.get_artifact('log-transactions-log_transactions_bst_model')\n",
    "model_path = model_artifact.get_target_path() + model_artifact.model_file\n",
    "\n",
    "project.get_function('serving').add_model(key = 'my_model',\n",
    "                                          class_name = \"mlrun.frameworks.xgboost.XGBoostModelServer\",\n",
    "                                          model_path = model_path)\n",
    "\n",
    "# mounting\n",
    "project.get_function('serving').apply(mlrun.auto_mount())\n",
    "project.get_function('serving').apply(mlrun.platforms.mount_s3())"
   ]
  },
  {
   "cell_type": "code",
   "execution_count": 3,
   "id": "bd1a06ae",
   "metadata": {},
   "outputs": [
    {
     "name": "stdout",
     "output_type": "stream",
     "text": [
      "> 2022-12-21 08:28:57,552 [warning] run command, file or code were not specified\n",
      "> 2022-12-21 08:29:02,589 [info] model my_model was loaded\n",
      "> 2022-12-21 08:29:02,590 [info] Loaded ['my_model']\n"
     ]
    }
   ],
   "source": [
    "server = project.get_function('serving').to_mock_server()"
   ]
  },
  {
   "cell_type": "code",
   "execution_count": 4,
   "id": "a16ba45f",
   "metadata": {},
   "outputs": [
    {
     "data": {
      "text/plain": [
       "{'id': '00173f4e86224cbf856fdb9fd9f562f5',\n",
       " 'model_name': 'my_model',\n",
       " 'outputs': [2, 1, 0]}"
      ]
     },
     "execution_count": 4,
     "metadata": {},
     "output_type": "execute_result"
    }
   ],
   "source": [
    "from sklearn.datasets import load_iris\n",
    "from sklearn.model_selection import train_test_split\n",
    "\n",
    "X,y = load_iris(return_X_y=True)\n",
    "\n",
    "X_train, X_test, y_train, y_test = train_test_split(X, y, train_size=0.8, test_size=0.2, random_state=0)\n",
    "\n",
    "server.test(body={'inputs': X_test.tolist()[:3]})"
   ]
  },
  {
   "cell_type": "code",
   "execution_count": 5,
   "id": "eb10a89b",
   "metadata": {},
   "outputs": [
    {
     "name": "stdout",
     "output_type": "stream",
     "text": [
      "> 2022-12-21 08:29:02,694 [info] Starting remote function deploy\n",
      "2022-12-21 08:29:02  (info) Deploying function\n",
      "2022-12-21 08:29:02  (info) Building\n",
      "2022-12-21 08:29:02  (info) Staging files and preparing base images\n",
      "2022-12-21 08:29:02  (info) Building processor image\n",
      "2022-12-21 08:31:11  (info) Build complete\n",
      "2022-12-21 08:32:13  (info) Function deploy complete\n",
      "> 2022-12-21 08:32:20,985 [info] successfully deployed function: {'internal_invocation_urls': ['nuclio-testing-notebooks-dani-serving.default-tenant.svc.cluster.local:8080'], 'external_invocation_urls': ['testing-notebooks-dani-serving-testing-notebooks-dani.default-tenant.app.dev6.lab.iguazeng.com/']}\n"
     ]
    },
    {
     "data": {
      "text/plain": [
       "DeployStatus(state=ready, outputs={'endpoint': 'http://testing-notebooks-dani-serving-testing-notebooks-dani.default-tenant.app.dev6.lab.iguazeng.com/', 'name': 'testing-notebooks-dani-serving'})"
      ]
     },
     "execution_count": 5,
     "metadata": {},
     "output_type": "execute_result"
    }
   ],
   "source": [
    "project.deploy_function('serving')"
   ]
  },
  {
   "cell_type": "code",
   "execution_count": 6,
   "id": "ae4ef7d8",
   "metadata": {},
   "outputs": [
    {
     "name": "stdout",
     "output_type": "stream",
     "text": [
      "> 2022-12-21 08:32:26,065 [info] invoking function: {'method': 'POST', 'path': 'http://nuclio-testing-notebooks-dani-serving.default-tenant.svc.cluster.local:8080/v2/models/my_model/infer'}\n"
     ]
    },
    {
     "data": {
      "text/plain": [
       "{'id': '01707867-e953-4dc5-8d79-8b61f20a45ad',\n",
       " 'model_name': 'my_model',\n",
       " 'outputs': [2, 1, 0]}"
      ]
     },
     "execution_count": 6,
     "metadata": {},
     "output_type": "execute_result"
    }
   ],
   "source": [
    "import time\n",
    "time.sleep(5)\n",
    "project.get_function('serving').invoke('/v2/models/my_model/infer', body={'inputs': X_test.tolist()[:3]})"
   ]
  },
  {
   "cell_type": "markdown",
   "id": "08187a74",
   "metadata": {},
   "source": [
    "# Pipeline remote access"
   ]
  },
  {
   "cell_type": "code",
   "execution_count": 7,
   "id": "6c926772",
   "metadata": {},
   "outputs": [
    {
     "name": "stdout",
     "output_type": "stream",
     "text": [
      "Writing workflow.py\n"
     ]
    }
   ],
   "source": [
    "%%writefile workflow.py\n",
    "import mlrun\n",
    "from kfp import dsl\n",
    "import os\n",
    "\n",
    "@dsl.pipeline(name=\"Mask Detection Pipeline\")\n",
    "\n",
    "def kfpipeline():\n",
    "    # Get our project object:\n",
    "    project = mlrun.get_current_project()\n",
    "    \n",
    "    project.get_function('log_transactions').apply(mlrun.platforms.set_env_variables({'GOOGLE_APPLICATION_CREDENTIALS':\n",
    "                                                                                      os.environ.get('GOOGLE_APPLICATION_CREDENTIALS')}))\n",
    "    project.get_function('log_transactions').apply(mlrun.platforms.mount_s3())\n",
    "    project.get_function('log_transactions').apply(mlrun.auto_mount())\n",
    "    run = project.run_function('log_transactions')\n",
    "    \n",
    "    model_artifact = project.get_artifact('log-transactions-log_transactions_bst_model')\n",
    "    model_path = model_artifact.get_target_path() + model_artifact.model_file\n",
    "    \n",
    "    project.get_function('serving').add_model(key = 'my_model',\n",
    "                                          class_name = \"mlrun.frameworks.xgboost.XGBoostModelServer\",\n",
    "                                          model_path = model_path)\n",
    "    \n",
    "    project.deploy_function('serving').after(run)\n",
    "    return"
   ]
  },
  {
   "cell_type": "code",
   "execution_count": 8,
   "id": "a89f343e",
   "metadata": {},
   "outputs": [
    {
     "data": {
      "text/plain": [
       "<mlrun.projects.project.MlrunProject at 0x7fccfc2adf50>"
      ]
     },
     "execution_count": 8,
     "metadata": {},
     "output_type": "execute_result"
    }
   ],
   "source": [
    "# Register the workflow file:\n",
    "workflow_name = \"iris_workflow\"\n",
    "project.set_workflow(workflow_name, \"workflow.py\")\n",
    "\n",
    "# Save the project:\n",
    "project.save()"
   ]
  },
  {
   "cell_type": "code",
   "execution_count": 9,
   "id": "56da7751",
   "metadata": {},
   "outputs": [
    {
     "data": {
      "text/html": [
       "<div>Pipeline running (id=024518c3-d169-4005-9fd2-b34e23241bdb), <a href=\"https://dashboard.default-tenant.app.dev6.lab.iguazeng.com/mlprojects/testing-notebooks-dani/jobs/monitor-workflows/workflow/024518c3-d169-4005-9fd2-b34e23241bdb\" target=\"_blank\"><b>click here</b></a> to view the details in MLRun UI</div>"
      ],
      "text/plain": [
       "<IPython.core.display.HTML object>"
      ]
     },
     "metadata": {},
     "output_type": "display_data"
    },
    {
     "data": {
      "image/svg+xml": [
       "<?xml version=\"1.0\" encoding=\"UTF-8\" standalone=\"no\"?>\n",
       "<!DOCTYPE svg PUBLIC \"-//W3C//DTD SVG 1.1//EN\"\n",
       " \"http://www.w3.org/Graphics/SVG/1.1/DTD/svg11.dtd\">\n",
       "<!-- Generated by graphviz version 2.40.1 (20161225.0304)\n",
       " -->\n",
       "<!-- Title: kfp Pages: 1 -->\n",
       "<svg width=\"180pt\" height=\"116pt\"\n",
       " viewBox=\"0.00 0.00 179.58 116.00\" xmlns=\"http://www.w3.org/2000/svg\" xmlns:xlink=\"http://www.w3.org/1999/xlink\">\n",
       "<g id=\"graph0\" class=\"graph\" transform=\"scale(1 1) rotate(0) translate(4 112)\">\n",
       "<title>kfp</title>\n",
       "<polygon fill=\"#ffffff\" stroke=\"transparent\" points=\"-4,4 -4,-112 175.5848,-112 175.5848,4 -4,4\"/>\n",
       "<!-- mask&#45;detection&#45;pipeline&#45;z822s&#45;2299943282 -->\n",
       "<g id=\"node1\" class=\"node\">\n",
       "<title>mask&#45;detection&#45;pipeline&#45;z822s&#45;2299943282</title>\n",
       "<polygon fill=\"#00ff00\" stroke=\"#000000\" points=\"146.7924,-36 28.7924,-36 24.7924,-32 24.7924,0 142.7924,0 146.7924,-4 146.7924,-36\"/>\n",
       "<polyline fill=\"none\" stroke=\"#000000\" points=\"142.7924,-32 24.7924,-32 \"/>\n",
       "<polyline fill=\"none\" stroke=\"#000000\" points=\"142.7924,-32 142.7924,0 \"/>\n",
       "<polyline fill=\"none\" stroke=\"#000000\" points=\"142.7924,-32 146.7924,-36 \"/>\n",
       "<text text-anchor=\"middle\" x=\"85.7924\" y=\"-14.3\" font-family=\"Times,serif\" font-size=\"14.00\" fill=\"#000000\">deploy&#45;serving</text>\n",
       "</g>\n",
       "<!-- mask&#45;detection&#45;pipeline&#45;z822s&#45;3934250644 -->\n",
       "<g id=\"node2\" class=\"node\">\n",
       "<title>mask&#45;detection&#45;pipeline&#45;z822s&#45;3934250644</title>\n",
       "<ellipse fill=\"#00ff00\" stroke=\"#000000\" cx=\"85.7924\" cy=\"-90\" rx=\"85.5853\" ry=\"18\"/>\n",
       "<text text-anchor=\"middle\" x=\"85.7924\" y=\"-86.3\" font-family=\"Times,serif\" font-size=\"14.00\" fill=\"#000000\">log&#45;transactions</text>\n",
       "</g>\n",
       "<!-- mask&#45;detection&#45;pipeline&#45;z822s&#45;3934250644&#45;&gt;mask&#45;detection&#45;pipeline&#45;z822s&#45;2299943282 -->\n",
       "<g id=\"edge1\" class=\"edge\">\n",
       "<title>mask&#45;detection&#45;pipeline&#45;z822s&#45;3934250644&#45;&gt;mask&#45;detection&#45;pipeline&#45;z822s&#45;2299943282</title>\n",
       "<path fill=\"none\" stroke=\"#000000\" d=\"M85.7924,-71.8314C85.7924,-64.131 85.7924,-54.9743 85.7924,-46.4166\"/>\n",
       "<polygon fill=\"#000000\" stroke=\"#000000\" points=\"89.2925,-46.4132 85.7924,-36.4133 82.2925,-46.4133 89.2925,-46.4132\"/>\n",
       "</g>\n",
       "</g>\n",
       "</svg>\n"
      ],
      "text/plain": [
       "<graphviz.dot.Digraph at 0x7fcd072a1750>"
      ]
     },
     "metadata": {},
     "output_type": "display_data"
    },
    {
     "data": {
      "text/html": [
       "<h2>Run Results</h2><h3>[info] Workflow 024518c3-d169-4005-9fd2-b34e23241bdb finished, state=Succeeded</h3><br>click the hyper links below to see detailed results<br><table border=\"1\" class=\"dataframe\">\n",
       "  <thead>\n",
       "    <tr style=\"text-align: right;\">\n",
       "      <th>uid</th>\n",
       "      <th>start</th>\n",
       "      <th>state</th>\n",
       "      <th>name</th>\n",
       "      <th>parameters</th>\n",
       "      <th>results</th>\n",
       "    </tr>\n",
       "  </thead>\n",
       "  <tbody>\n",
       "    <tr>\n",
       "      <td><div title=\"562a8acf73d244e691079ddee4efe167\"><a href=\"https://dashboard.default-tenant.app.dev6.lab.iguazeng.com/mlprojects/testing-notebooks-dani/jobs/monitor/562a8acf73d244e691079ddee4efe167/overview\" target=\"_blank\" >...e4efe167</a></div></td>\n",
       "      <td>Dec 21 08:32:51</td>\n",
       "      <td>completed</td>\n",
       "      <td>log-transactions</td>\n",
       "      <td></td>\n",
       "      <td></td>\n",
       "    </tr>\n",
       "  </tbody>\n",
       "</table>"
      ],
      "text/plain": [
       "<IPython.core.display.HTML object>"
      ]
     },
     "metadata": {},
     "output_type": "display_data"
    },
    {
     "data": {
      "text/plain": [
       "<mlrun.projects.project.MlrunProject at 0x7fccfc2adf50>"
      ]
     },
     "execution_count": 9,
     "metadata": {},
     "output_type": "execute_result"
    }
   ],
   "source": [
    "# Running with S3\n",
    "project.run(name=workflow_name,watch=True, local=False, artifact_path=project.artifact_path)\n",
    "project.save()"
   ]
  },
  {
   "cell_type": "code",
   "execution_count": 10,
   "id": "051f529a",
   "metadata": {},
   "outputs": [
    {
     "data": {
      "text/html": [
       "<div>Pipeline running (id=89cf0f73-cb60-4ffd-8769-8d208ae17d7b), <a href=\"https://dashboard.default-tenant.app.dev6.lab.iguazeng.com/mlprojects/testing-notebooks-dani/jobs/monitor-workflows/workflow/89cf0f73-cb60-4ffd-8769-8d208ae17d7b\" target=\"_blank\"><b>click here</b></a> to view the details in MLRun UI</div>"
      ],
      "text/plain": [
       "<IPython.core.display.HTML object>"
      ]
     },
     "metadata": {},
     "output_type": "display_data"
    },
    {
     "data": {
      "image/svg+xml": [
       "<?xml version=\"1.0\" encoding=\"UTF-8\" standalone=\"no\"?>\n",
       "<!DOCTYPE svg PUBLIC \"-//W3C//DTD SVG 1.1//EN\"\n",
       " \"http://www.w3.org/Graphics/SVG/1.1/DTD/svg11.dtd\">\n",
       "<!-- Generated by graphviz version 2.40.1 (20161225.0304)\n",
       " -->\n",
       "<!-- Title: kfp Pages: 1 -->\n",
       "<svg width=\"180pt\" height=\"116pt\"\n",
       " viewBox=\"0.00 0.00 179.58 116.00\" xmlns=\"http://www.w3.org/2000/svg\" xmlns:xlink=\"http://www.w3.org/1999/xlink\">\n",
       "<g id=\"graph0\" class=\"graph\" transform=\"scale(1 1) rotate(0) translate(4 112)\">\n",
       "<title>kfp</title>\n",
       "<polygon fill=\"#ffffff\" stroke=\"transparent\" points=\"-4,4 -4,-112 175.5848,-112 175.5848,4 -4,4\"/>\n",
       "<!-- mask&#45;detection&#45;pipeline&#45;vc9hv&#45;45213265 -->\n",
       "<g id=\"node1\" class=\"node\">\n",
       "<title>mask&#45;detection&#45;pipeline&#45;vc9hv&#45;45213265</title>\n",
       "<ellipse fill=\"#00ff00\" stroke=\"#000000\" cx=\"85.7924\" cy=\"-90\" rx=\"85.5853\" ry=\"18\"/>\n",
       "<text text-anchor=\"middle\" x=\"85.7924\" y=\"-86.3\" font-family=\"Times,serif\" font-size=\"14.00\" fill=\"#000000\">log&#45;transactions</text>\n",
       "</g>\n",
       "<!-- mask&#45;detection&#45;pipeline&#45;vc9hv&#45;542952663 -->\n",
       "<g id=\"node2\" class=\"node\">\n",
       "<title>mask&#45;detection&#45;pipeline&#45;vc9hv&#45;542952663</title>\n",
       "<polygon fill=\"#00ff00\" stroke=\"#000000\" points=\"146.7924,-36 28.7924,-36 24.7924,-32 24.7924,0 142.7924,0 146.7924,-4 146.7924,-36\"/>\n",
       "<polyline fill=\"none\" stroke=\"#000000\" points=\"142.7924,-32 24.7924,-32 \"/>\n",
       "<polyline fill=\"none\" stroke=\"#000000\" points=\"142.7924,-32 142.7924,0 \"/>\n",
       "<polyline fill=\"none\" stroke=\"#000000\" points=\"142.7924,-32 146.7924,-36 \"/>\n",
       "<text text-anchor=\"middle\" x=\"85.7924\" y=\"-14.3\" font-family=\"Times,serif\" font-size=\"14.00\" fill=\"#000000\">deploy&#45;serving</text>\n",
       "</g>\n",
       "<!-- mask&#45;detection&#45;pipeline&#45;vc9hv&#45;45213265&#45;&gt;mask&#45;detection&#45;pipeline&#45;vc9hv&#45;542952663 -->\n",
       "<g id=\"edge1\" class=\"edge\">\n",
       "<title>mask&#45;detection&#45;pipeline&#45;vc9hv&#45;45213265&#45;&gt;mask&#45;detection&#45;pipeline&#45;vc9hv&#45;542952663</title>\n",
       "<path fill=\"none\" stroke=\"#000000\" d=\"M85.7924,-71.8314C85.7924,-64.131 85.7924,-54.9743 85.7924,-46.4166\"/>\n",
       "<polygon fill=\"#000000\" stroke=\"#000000\" points=\"89.2925,-46.4132 85.7924,-36.4133 82.2925,-46.4133 89.2925,-46.4132\"/>\n",
       "</g>\n",
       "</g>\n",
       "</svg>\n"
      ],
      "text/plain": [
       "<graphviz.dot.Digraph at 0x7fcce01ac810>"
      ]
     },
     "metadata": {},
     "output_type": "display_data"
    },
    {
     "data": {
      "text/html": [
       "<h2>Run Results</h2><h3>[info] Workflow 89cf0f73-cb60-4ffd-8769-8d208ae17d7b finished, state=Succeeded</h3><br>click the hyper links below to see detailed results<br><table border=\"1\" class=\"dataframe\">\n",
       "  <thead>\n",
       "    <tr style=\"text-align: right;\">\n",
       "      <th>uid</th>\n",
       "      <th>start</th>\n",
       "      <th>state</th>\n",
       "      <th>name</th>\n",
       "      <th>parameters</th>\n",
       "      <th>results</th>\n",
       "    </tr>\n",
       "  </thead>\n",
       "  <tbody>\n",
       "    <tr>\n",
       "      <td><div title=\"c903059073134f82a60838f9e42a1776\"><a href=\"https://dashboard.default-tenant.app.dev6.lab.iguazeng.com/mlprojects/testing-notebooks-dani/jobs/monitor/c903059073134f82a60838f9e42a1776/overview\" target=\"_blank\" >...e42a1776</a></div></td>\n",
       "      <td>Dec 21 08:36:33</td>\n",
       "      <td>completed</td>\n",
       "      <td>log-transactions</td>\n",
       "      <td></td>\n",
       "      <td></td>\n",
       "    </tr>\n",
       "  </tbody>\n",
       "</table>"
      ],
      "text/plain": [
       "<IPython.core.display.HTML object>"
      ]
     },
     "metadata": {},
     "output_type": "display_data"
    },
    {
     "data": {
      "text/plain": [
       "89cf0f73-cb60-4ffd-8769-8d208ae17d7b"
      ]
     },
     "execution_count": 10,
     "metadata": {},
     "output_type": "execute_result"
    }
   ],
   "source": [
    "# Running with GCS\n",
    "project.run(name=workflow_name,watch=True, local=False, artifact_path='gs' + project.artifact_path[2:])"
   ]
  }
 ],
 "metadata": {
  "kernelspec": {
   "display_name": "Python 3",
   "language": "python",
   "name": "python3"
  },
  "language_info": {
   "codemirror_mode": {
    "name": "ipython",
    "version": 3
   },
   "file_extension": ".py",
   "mimetype": "text/x-python",
   "name": "python",
   "nbconvert_exporter": "python",
   "pygments_lexer": "ipython3",
   "version": "3.7.6"
  }
 },
 "nbformat": 4,
 "nbformat_minor": 5
}

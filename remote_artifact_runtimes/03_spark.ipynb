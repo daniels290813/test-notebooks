{
 "cells": [
  {
   "cell_type": "code",
   "execution_count": 1,
   "id": "516a80aa",
   "metadata": {},
   "outputs": [
    {
     "name": "stdout",
     "output_type": "stream",
     "text": [
      "> 2022-12-21 08:30:55,170 [info] loaded project testing-notebooks from MLRun DB\n"
     ]
    }
   ],
   "source": [
    "import mlrun\n",
    "import os\n",
    "\n",
    "# Initialize the MLRun project object\n",
    "project = mlrun.get_or_create_project('testing-notebooks',user_project=True,context='./')\n",
    "\n",
    "# Required credentials :\n",
    "# AWS_ACCESS_KEY_ID, AWS_SECRET_ACCESS_KEY, GOOGLE_APPLICATION_CREDENTIALS, S3_BUCKET\n",
    "AWS_ACCESS_KEY_ID = os.environ.get('AWS_ACCESS_KEY_ID', None)\n",
    "AWS_SECRET_ACCESS_KEY = os.environ.get('AWS_SECRET_ACCESS_KEY', None)\n",
    "GOOGLE_APPLICATION_CREDENTIALS = os.environ.get('GOOGLE_APPLICATION_CREDENTIALS', None)\n",
    "assert AWS_ACCESS_KEY_ID != None and AWS_SECRET_ACCESS_KEY != None and GOOGLE_APPLICATION_CREDENTIALS != None\n",
    "\n",
    "secrets = {'AWS_ACCESS_KEY_ID': AWS_ACCESS_KEY_ID,\n",
    "           'AWS_SECRET_ACCESS_KEY':AWS_SECRET_ACCESS_KEY,\n",
    "           'GOOGLE_APPLICATION_CREDENTIALS': GOOGLE_APPLICATION_CREDENTIALS}\n",
    "\n",
    "project.set_secrets(secrets=secrets, provider='kubernetes')\n",
    "\n",
    "S3_BUCKET = os.environ.get('S3_BUCKET', 'testbucket-igz')\n",
    "\n",
    "project.artifact_path = os.path.join('s3://', S3_BUCKET + '/')"
   ]
  },
  {
   "cell_type": "code",
   "execution_count": 2,
   "id": "2ea757d9",
   "metadata": {},
   "outputs": [],
   "source": [
    "#mlrun: start-code\n",
    "from pyspark.sql import SparkSession\n",
    "import mlrun\n",
    "import os\n",
    "\n",
    "def spark_func(context: mlrun.MLClientCtx):\n",
    "    spark = SparkSession \\\n",
    "        .builder \\\n",
    "        .appName(\"Python Spark SQL basic example\") \\\n",
    "        .config(\"spark.some.config.option\", \"some-value\") \\\n",
    "        .config(\"fs.s3a.access.key\", context.get_secret('AWS_ACCESS_KEY_ID'))\\\n",
    "        .config(\"fs.s3a.secret.key\", context.get_secret('AWS_SECRET_ACCESS_KEY'))\\\n",
    "        .config(\"spark.hadoop.fs.s3a.impl\", \"org.apache.hadoop.fs.s3a.S3AFileSystem\")\\\n",
    "        .config(\"com.amazonaws.services.s3.enableV4\", True)\\\n",
    "        .config(\"spark.driver.extraJavaOptions\", \"-Dcom.amazonaws.services.s3.enableV4=true\")\\\n",
    "        .getOrCreate()\n",
    "        \n",
    "    sparkDF = spark.read.format(\"csv\").load(context.artifact_path + 'transactions_cut.csv')\n",
    "    sparkDF.show()\n",
    "    \n",
    "    sparkDF.write.option(\"header\",\"true\").mode(\"overwrite\").parquet(context.artifact_path + 'transactions_cut.parquet')\n",
    "    \n",
    "#mlrun: end-code"
   ]
  },
  {
   "cell_type": "code",
   "execution_count": null,
   "id": "0c1341ae",
   "metadata": {},
   "outputs": [],
   "source": [
    "# For Spark operator\n",
    "from mlrun.runtimes import Spark3Runtime\n",
    "Spark3Runtime.deploy_default_image()"
   ]
  },
  {
   "cell_type": "code",
   "execution_count": null,
   "id": "039c128c",
   "metadata": {},
   "outputs": [],
   "source": [
    "sj = mlrun.code_to_function(name='spark_func', \n",
    "                            kind='spark', \n",
    "                            image='.spark-job-default-image',\n",
    "                            handler='spark_func')\n",
    "\n",
    "# set spark driver config (gpu_type & gpus=<number_of_gpus>  supported too)\n",
    "sj.with_driver_limits(cpu=\"1300m\")\n",
    "sj.with_driver_requests(cpu=1, mem=\"512m\") \n",
    "\n",
    "# set spark executor config (gpu_type & gpus=<number_of_gpus> are supported too)\n",
    "sj.with_executor_limits(cpu=\"1400m\")\n",
    "sj.with_executor_requests(cpu=1, mem=\"512m\")\n",
    "\n",
    "# adds fuse, daemon & iguazio's jars support\n",
    "sj.with_igz_spark() \n",
    "\n",
    "project.set_function(name = 'spark_func', func=sj)\n",
    "project.get_function('spark_func').apply(mlrun.platforms.mount_s3())\n",
    "\n",
    "task = mlrun.new_task().with_secrets(\"kubernetes\", [\"AWS_ACCESS_KEY_ID\", \"AWS_SECRET_ACCESS_KEY\", \"GOOGLE_APPLICATION_CREDENTIALS\"])\n",
    "\n",
    "project.get_function('spark_func').run(task,artifact_path = 's3a' + project.artifact_path[2:])"
   ]
  }
 ],
 "metadata": {
  "kernelspec": {
   "display_name": "Python [conda env:root] *",
   "language": "python",
   "name": "conda-root-py"
  },
  "language_info": {
   "codemirror_mode": {
    "name": "ipython",
    "version": 3
   },
   "file_extension": ".py",
   "mimetype": "text/x-python",
   "name": "python",
   "nbconvert_exporter": "python",
   "pygments_lexer": "ipython3",
   "version": "3.7.6"
  }
 },
 "nbformat": 4,
 "nbformat_minor": 5
}
